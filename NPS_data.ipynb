{
 "cells": [
  {
   "cell_type": "code",
   "execution_count": 2,
   "metadata": {},
   "outputs": [
    {
     "data": {
      "text/html": [
       "<div>\n",
       "<style scoped>\n",
       "    .dataframe tbody tr th:only-of-type {\n",
       "        vertical-align: middle;\n",
       "    }\n",
       "\n",
       "    .dataframe tbody tr th {\n",
       "        vertical-align: top;\n",
       "    }\n",
       "\n",
       "    .dataframe thead th {\n",
       "        text-align: right;\n",
       "    }\n",
       "</style>\n",
       "<table border=\"1\" class=\"dataframe\">\n",
       "  <thead>\n",
       "    <tr style=\"text-align: right;\">\n",
       "      <th></th>\n",
       "      <th>#</th>\n",
       "      <th>How likely is it that you would recommend the Make School Summer Academy to a friend?</th>\n",
       "      <th>How well are the tutorials paced?</th>\n",
       "      <th>How well is the schedule paced?</th>\n",
       "      <th>How would you rate your overall satisfaction with the Summer Academy this week?</th>\n",
       "      <th>Network ID</th>\n",
       "      <th>Start Date (UTC)</th>\n",
       "      <th>Submit Date (UTC)</th>\n",
       "      <th>Timestamp</th>\n",
       "      <th>Unnamed: 0</th>\n",
       "      <th>What track are you in?</th>\n",
       "      <th>location</th>\n",
       "      <th>track</th>\n",
       "    </tr>\n",
       "  </thead>\n",
       "  <tbody>\n",
       "    <tr>\n",
       "      <th>0</th>\n",
       "      <td>NaN</td>\n",
       "      <td>NaN</td>\n",
       "      <td>NaN</td>\n",
       "      <td>3</td>\n",
       "      <td>3</td>\n",
       "      <td>NaN</td>\n",
       "      <td>NaN</td>\n",
       "      <td>NaN</td>\n",
       "      <td>8/5/2016 1:39:41</td>\n",
       "      <td>NaN</td>\n",
       "      <td>NaN</td>\n",
       "      <td>NaN</td>\n",
       "      <td>NaN</td>\n",
       "    </tr>\n",
       "    <tr>\n",
       "      <th>1</th>\n",
       "      <td>NaN</td>\n",
       "      <td>NaN</td>\n",
       "      <td>NaN</td>\n",
       "      <td>3</td>\n",
       "      <td>4</td>\n",
       "      <td>NaN</td>\n",
       "      <td>NaN</td>\n",
       "      <td>NaN</td>\n",
       "      <td>8/5/2016 1:40:47</td>\n",
       "      <td>NaN</td>\n",
       "      <td>NaN</td>\n",
       "      <td>NaN</td>\n",
       "      <td>NaN</td>\n",
       "    </tr>\n",
       "    <tr>\n",
       "      <th>2</th>\n",
       "      <td>NaN</td>\n",
       "      <td>NaN</td>\n",
       "      <td>NaN</td>\n",
       "      <td>3</td>\n",
       "      <td>4</td>\n",
       "      <td>NaN</td>\n",
       "      <td>NaN</td>\n",
       "      <td>NaN</td>\n",
       "      <td>8/5/2016 1:40:50</td>\n",
       "      <td>NaN</td>\n",
       "      <td>NaN</td>\n",
       "      <td>NaN</td>\n",
       "      <td>NaN</td>\n",
       "    </tr>\n",
       "    <tr>\n",
       "      <th>3</th>\n",
       "      <td>NaN</td>\n",
       "      <td>NaN</td>\n",
       "      <td>NaN</td>\n",
       "      <td>4</td>\n",
       "      <td>4</td>\n",
       "      <td>NaN</td>\n",
       "      <td>NaN</td>\n",
       "      <td>NaN</td>\n",
       "      <td>8/5/2016 1:42:44</td>\n",
       "      <td>NaN</td>\n",
       "      <td>NaN</td>\n",
       "      <td>NaN</td>\n",
       "      <td>NaN</td>\n",
       "    </tr>\n",
       "    <tr>\n",
       "      <th>4</th>\n",
       "      <td>NaN</td>\n",
       "      <td>NaN</td>\n",
       "      <td>NaN</td>\n",
       "      <td>4</td>\n",
       "      <td>5</td>\n",
       "      <td>NaN</td>\n",
       "      <td>NaN</td>\n",
       "      <td>NaN</td>\n",
       "      <td>8/5/2016 1:45:13</td>\n",
       "      <td>NaN</td>\n",
       "      <td>NaN</td>\n",
       "      <td>NaN</td>\n",
       "      <td>NaN</td>\n",
       "    </tr>\n",
       "  </tbody>\n",
       "</table>\n",
       "</div>"
      ],
      "text/plain": [
       "     #  \\\n",
       "0  NaN   \n",
       "1  NaN   \n",
       "2  NaN   \n",
       "3  NaN   \n",
       "4  NaN   \n",
       "\n",
       "   How likely is it that you would recommend the Make School Summer Academy to a friend?  \\\n",
       "0                                                NaN                                       \n",
       "1                                                NaN                                       \n",
       "2                                                NaN                                       \n",
       "3                                                NaN                                       \n",
       "4                                                NaN                                       \n",
       "\n",
       "   How well are the tutorials paced? How well is the schedule paced?  \\\n",
       "0                                NaN                               3   \n",
       "1                                NaN                               3   \n",
       "2                                NaN                               3   \n",
       "3                                NaN                               4   \n",
       "4                                NaN                               4   \n",
       "\n",
       "  How would you rate your overall satisfaction with the Summer Academy this week?  \\\n",
       "0                                                  3                                \n",
       "1                                                  4                                \n",
       "2                                                  4                                \n",
       "3                                                  4                                \n",
       "4                                                  5                                \n",
       "\n",
       "  Network ID Start Date (UTC) Submit Date (UTC)         Timestamp Unnamed: 0  \\\n",
       "0        NaN              NaN               NaN  8/5/2016 1:39:41        NaN   \n",
       "1        NaN              NaN               NaN  8/5/2016 1:40:47        NaN   \n",
       "2        NaN              NaN               NaN  8/5/2016 1:40:50        NaN   \n",
       "3        NaN              NaN               NaN  8/5/2016 1:42:44        NaN   \n",
       "4        NaN              NaN               NaN  8/5/2016 1:45:13        NaN   \n",
       "\n",
       "  What track are you in? location track  \n",
       "0                    NaN      NaN   NaN  \n",
       "1                    NaN      NaN   NaN  \n",
       "2                    NaN      NaN   NaN  \n",
       "3                    NaN      NaN   NaN  \n",
       "4                    NaN      NaN   NaN  "
      ]
     },
     "execution_count": 2,
     "metadata": {},
     "output_type": "execute_result"
    }
   ],
   "source": [
    "import glob\n",
    "import pandas as pd \n",
    "import os\n",
    "\n",
    "# df16 = [pd.read_csv(f) for f in glob.glob('./SA Feedback Surveys_FINAL/2016/*.csv')]\n",
    "\n",
    "all_csvs = glob.glob(os.path.join('./SA Feedback Surveys_FINAL/2016/', \"*.csv\"))\n",
    "read_all_csvs = (pd.read_csv(f) for f in all_csvs)\n",
    "df = pd.concat(read_all_csvs, ignore_index = True, sort = True)\n",
    "df.head()"
   ]
  },
  {
   "cell_type": "markdown",
   "metadata": {},
   "source": [
    "# To-Do List\n",
    "- [ ] Check all columns to see if they have valid responses\n",
    "- [ ] #REF! rows invalid\n",
    "- [ ] Convert all string scors to int values\n",
    "- [ ] Track, location vs popularity\n",
    "- [ ] Understand from which region of the country students are most satisfied or dissatisfied \n"
   ]
  },
  {
   "cell_type": "code",
   "execution_count": 5,
   "metadata": {},
   "outputs": [
    {
     "data": {
      "text/plain": [
       "array([nan, 10.,  9.,  3.,  8.,  6.,  7.,  4.,  5.])"
      ]
     },
     "execution_count": 5,
     "metadata": {},
     "output_type": "execute_result"
    }
   ],
   "source": [
    "df['How likely is it that you would recommend the Make School Summer Academy to a friend?'].unique()"
   ]
  },
  {
   "cell_type": "code",
   "execution_count": 10,
   "metadata": {},
   "outputs": [
    {
     "data": {
      "text/plain": [
       "0      True\n",
       "1      True\n",
       "2      True\n",
       "3      True\n",
       "4      True\n",
       "5      True\n",
       "6      True\n",
       "7      True\n",
       "8      True\n",
       "9      True\n",
       "10     True\n",
       "11     True\n",
       "12     True\n",
       "13     True\n",
       "14     True\n",
       "15     True\n",
       "16     True\n",
       "17     True\n",
       "18     True\n",
       "19     True\n",
       "20     True\n",
       "21     True\n",
       "22     True\n",
       "23     True\n",
       "24     True\n",
       "25     True\n",
       "26     True\n",
       "27     True\n",
       "28     True\n",
       "29     True\n",
       "       ... \n",
       "962    True\n",
       "963    True\n",
       "964    True\n",
       "965    True\n",
       "966    True\n",
       "967    True\n",
       "968    True\n",
       "969    True\n",
       "970    True\n",
       "971    True\n",
       "972    True\n",
       "973    True\n",
       "974    True\n",
       "975    True\n",
       "976    True\n",
       "977    True\n",
       "978    True\n",
       "979    True\n",
       "980    True\n",
       "981    True\n",
       "982    True\n",
       "983    True\n",
       "984    True\n",
       "985    True\n",
       "986    True\n",
       "987    True\n",
       "988    True\n",
       "989    True\n",
       "990    True\n",
       "991    True\n",
       "Name: How likely is it that you would recommend the Make School Summer Academy to a friend?, Length: 992, dtype: bool"
      ]
     },
     "execution_count": 10,
     "metadata": {},
     "output_type": "execute_result"
    }
   ],
   "source": [
    "df['How likely is it that you would recommend the Make School Summer Academy to a friend?'].isna()"
   ]
  },
  {
   "cell_type": "code",
   "execution_count": 9,
   "metadata": {},
   "outputs": [
    {
     "data": {
      "text/plain": [
       "array([3, 4, 1, 2, 5, nan, '2', '3', '4', '5', '#REF!'], dtype=object)"
      ]
     },
     "execution_count": 9,
     "metadata": {},
     "output_type": "execute_result"
    }
   ],
   "source": [
    "df['How well is the schedule paced?'].unique()"
   ]
  },
  {
   "cell_type": "code",
   "execution_count": 3,
   "metadata": {},
   "outputs": [
    {
     "data": {
      "text/plain": [
       "array([nan, 'Intro', 'Games', 'Apps', 'VR', 'Average:'], dtype=object)"
      ]
     },
     "execution_count": 3,
     "metadata": {},
     "output_type": "execute_result"
    }
   ],
   "source": [
    "# Available tracks are Intro, Games, Apps and VR\n",
    "df['What track are you in?'].unique()"
   ]
  },
  {
   "cell_type": "code",
   "execution_count": 4,
   "metadata": {},
   "outputs": [
    {
     "data": {
      "text/plain": [
       "array([nan, 'New York', 'San Francisco', 'Sunnyvale', 'Singapore',\n",
       "       'Los Angeles'], dtype=object)"
      ]
     },
     "execution_count": 4,
     "metadata": {},
     "output_type": "execute_result"
    }
   ],
   "source": [
    "# Available locations are New York, San Francisco, Sunnyvale, Singapore and Los Angeles\n",
    "df['location'].unique()"
   ]
  },
  {
   "cell_type": "code",
   "execution_count": 5,
   "metadata": {},
   "outputs": [
    {
     "data": {
      "text/plain": [
       "array([nan,  3.,  4.,  5.,  2.])"
      ]
     },
     "execution_count": 5,
     "metadata": {},
     "output_type": "execute_result"
    }
   ],
   "source": [
    "df['How well are the tutorials paced?'].unique()"
   ]
  },
  {
   "cell_type": "code",
   "execution_count": null,
   "metadata": {},
   "outputs": [],
   "source": []
  }
 ],
 "metadata": {
  "kernelspec": {
   "display_name": "Python 3",
   "language": "python",
   "name": "python3"
  },
  "language_info": {
   "codemirror_mode": {
    "name": "ipython",
    "version": 3
   },
   "file_extension": ".py",
   "mimetype": "text/x-python",
   "name": "python",
   "nbconvert_exporter": "python",
   "pygments_lexer": "ipython3",
   "version": "3.7.1"
  }
 },
 "nbformat": 4,
 "nbformat_minor": 2
}
